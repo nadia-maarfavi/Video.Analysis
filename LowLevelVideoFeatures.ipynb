{
  "nbformat": 4,
  "nbformat_minor": 0,
  "metadata": {
    "colab": {
      "provenance": [],
      "mount_file_id": "13IYy-qcnZj1kGsvdER_7e9g1HK0o-FQv",
      "authorship_tag": "ABX9TyPsWg4X1Zck0jIJuSopJX3g",
      "include_colab_link": true
    },
    "kernelspec": {
      "name": "python3",
      "display_name": "Python 3"
    },
    "language_info": {
      "name": "python"
    }
  },
  "cells": [
    {
      "cell_type": "markdown",
      "metadata": {
        "id": "view-in-github",
        "colab_type": "text"
      },
      "source": [
        "<a href=\"https://colab.research.google.com/github/nadia-maarfavi/Video.Analysis/blob/main/LowLevelVideoFeatures.ipynb\" target=\"_parent\"><img src=\"https://colab.research.google.com/assets/colab-badge.svg\" alt=\"Open In Colab\"/></a>"
      ]
    },
    {
      "cell_type": "code",
      "execution_count": 9,
      "metadata": {
        "id": "giskHMdf1ShC"
      },
      "outputs": [],
      "source": [
        "import pandas as pd\n",
        "import numpy as np\n",
        "import cv2\n",
        "import time\n",
        "import os\n",
        "from csv import writer\n",
        "import sys"
      ]
    },
    {
      "cell_type": "code",
      "source": [
        "def image_colorfulness(image):\n",
        "    # split the image into its respective RGB components\n",
        "    (B, G, R) = cv2.split(image.astype(\"float\"))\n",
        "    # compute rg = R - G\n",
        "    rg = np.absolute(R - G)\n",
        "    # compute yb = 0.5 * (R + G) - B\n",
        "    yb = np.absolute(0.5 * (R + G) - B)\n",
        "    # compute the mean and standard deviation of both `rg` and `yb`\n",
        "    (rbMean, rbStd) = (np.mean(rg), np.std(rg))\n",
        "    (ybMean, ybStd) = (np.mean(yb), np.std(yb))\n",
        "    # combine the mean and standard deviations\n",
        "    stdRoot = np.sqrt((rbStd ** 2) + (ybStd ** 2))\n",
        "    meanRoot = np.sqrt((rbMean ** 2) + (ybMean ** 2))\n",
        "    # derive the \"colorfulness\" metric and return it\n",
        "    color = stdRoot + (0.3 * meanRoot)\n",
        "    return color"
      ],
      "metadata": {
        "id": "q3r1HZRo1gAX"
      },
      "execution_count": 10,
      "outputs": []
    },
    {
      "cell_type": "code",
      "source": [
        "def image_brightness(image):\n",
        "    # calculate mean brightness in HSV space\n",
        "    bright_pixel = round(image[..., 2].mean(), 4)\n",
        "    return bright_pixel"
      ],
      "metadata": {
        "id": "dEGX2jnu107F"
      },
      "execution_count": 11,
      "outputs": []
    },
    {
      "cell_type": "code",
      "source": [
        "def image_saturation(image):\n",
        "    saturation = round(image[:, :, 1].mean(), 4)\n",
        "    return saturation"
      ],
      "metadata": {
        "id": "SaVLl0cy2E8d"
      },
      "execution_count": 12,
      "outputs": []
    },
    {
      "cell_type": "code",
      "source": [
        "def image_contrast(image):\n",
        "    img_grey = cv2.cvtColor(image, cv2.COLOR_BGR2GRAY)\n",
        "    contrast = img_grey.std()\n",
        "    return contrast"
      ],
      "metadata": {
        "id": "guPVBcu0KJTx"
      },
      "execution_count": 13,
      "outputs": []
    },
    {
      "cell_type": "code",
      "source": [
        "def lowlevel(f1):\n",
        "\n",
        "    Brightness = []\n",
        "    Saturation = []\n",
        "    Contrast = []\n",
        "    ColorFulness = []\n",
        "    AllFeatures = []\n",
        "\n",
        "    cap = cv2.VideoCapture(f1)\n",
        "\n",
        "    fps = cap.get(cv2.CAP_PROP_FPS)\n",
        "    frame_count = int(cap.get(cv2.CAP_PROP_FRAME_COUNT))\n",
        "    duration = frame_count / fps\n",
        "\n",
        "    ret, frame = cap.read()\n",
        "\n",
        "\n",
        "    while (True):\n",
        "\n",
        "      gray = cv2.cvtColor(frame, cv2.COLOR_BGR2GRAY)\n",
        "      gray = cv2.GaussianBlur(gray, (21, 21), 0)\n",
        "\n",
        "      # calculate colorfulness in HSV space\n",
        "      ColorFulness.append(image_colorfulness(frame))\n",
        "\n",
        "      # convert to hsv\n",
        "      img_hsv = cv2.cvtColor(frame, cv2.COLOR_BGR2HSV)\n",
        "\n",
        "      # calculate mean brightness in HSV space\n",
        "      Brightness.append(image_brightness(img_hsv))\n",
        "\n",
        "      # calculate saturation in HSV space\n",
        "      Saturation.append(image_saturation(img_hsv))\n",
        "\n",
        "      # calculate contrast\n",
        "      Contrast.append(image_contrast(frame))\n",
        "\n",
        "      ret, frame = cap.read()\n",
        "      if ret == False:\n",
        "        print(\"Video Finished !!!\")\n",
        "        break\n",
        "\n",
        "    cap.release()\n",
        "\n",
        "    #print(len(Brightness), len(Saturation), len(Contrast), len(ColorFulness), len(MotionScores))\n",
        "    #print((Brightness), (Saturation), (Contrast), (ColorFulness), (MotionScores))\n",
        "\n",
        "    AllFeatures.extend([duration, np.mean(Brightness),np.var(Brightness),np.mean(Saturation),np.var(Saturation),np.mean(Contrast),np.var(Contrast),\n",
        "                       np.mean(ColorFulness),np.var(ColorFulness)])\n",
        "    return AllFeatures"
      ],
      "metadata": {
        "id": "hIlm7CRLI-m9"
      },
      "execution_count": 20,
      "outputs": []
    },
    {
      "cell_type": "code",
      "source": [
        "videopath = \"/content/drive/MyDrive/Video/Sample1.mp4\"\n",
        "\n",
        "if((os.path.isfile(videopath))==False):\n",
        "  print(\"Video not found\")\n",
        "\n",
        "else:\n",
        "  OneVideoFeature = lowlevel(videopath)\n",
        "\n",
        "print(OneVideoFeature)"
      ],
      "metadata": {
        "colab": {
          "base_uri": "https://localhost:8080/"
        },
        "id": "19fSuCP_IKU8",
        "outputId": "831a2eb9-4dee-4b3a-e539-ba8a354c54ca"
      },
      "execution_count": 21,
      "outputs": [
        {
          "output_type": "stream",
          "name": "stdout",
          "text": [
            "Video Finished !!!\n",
            "[9.008999999999999, 77.61578425925926, 103.44392944280779, 67.5974712962963, 286.56929483139834, 60.510023897902116, 180.9932829107019, 19.90673739233737, 33.41842554847253]\n"
          ]
        }
      ]
    }
  ]
}