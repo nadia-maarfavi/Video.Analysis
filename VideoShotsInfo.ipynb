{
  "nbformat": 4,
  "nbformat_minor": 0,
  "metadata": {
    "colab": {
      "provenance": [],
      "mount_file_id": "13RagGZ_YD3cwAJhZ5CHHuzJh87ljW6o3",
      "authorship_tag": "ABX9TyN0Qv3F7FHdyWTV8wr5+4Cw",
      "include_colab_link": true
    },
    "kernelspec": {
      "name": "python3",
      "display_name": "Python 3"
    },
    "language_info": {
      "name": "python"
    }
  },
  "cells": [
    {
      "cell_type": "markdown",
      "metadata": {
        "id": "view-in-github",
        "colab_type": "text"
      },
      "source": [
        "<a href=\"https://colab.research.google.com/github/nadia-maarfavi/Video.Analysis/blob/main/VideoShotsInfo.ipynb\" target=\"_parent\"><img src=\"https://colab.research.google.com/assets/colab-badge.svg\" alt=\"Open In Colab\"/></a>"
      ]
    },
    {
      "cell_type": "code",
      "execution_count": 1,
      "metadata": {
        "id": "SmccdhdFVy8L"
      },
      "outputs": [],
      "source": [
        "import os\n",
        "import cv2\n",
        "import subprocess\n",
        "import numpy as np\n",
        "from PIL import Image\n",
        "import pandas as pd\n",
        "from numpy import asarray\n",
        "import os\n",
        "import glob\n",
        "from scipy import stats\n",
        "import cv2\n",
        "import time"
      ]
    },
    {
      "cell_type": "code",
      "source": [
        "filename = \"/content/drive/MyDrive/Video/Sample1.mp4\"\n",
        "#Path to the video"
      ],
      "metadata": {
        "id": "L4C4JSyoXKns"
      },
      "execution_count": 2,
      "outputs": []
    },
    {
      "cell_type": "code",
      "source": [
        "# This function will read the video and check the frame type.\n",
        "\n",
        "def get_frame_types(video_fn):\n",
        "    command = 'ffprobe -v error -show_entries frame=pict_type -of default=noprint_wrappers=1'.split()\n",
        "    out = subprocess.check_output(command + [video_fn]).decode()\n",
        "    frame_types = out.replace('pict_type=','').split()\n",
        "    return zip(range(len(frame_types)), frame_types)"
      ],
      "metadata": {
        "id": "ZdQkfiUYYGYC"
      },
      "execution_count": 3,
      "outputs": []
    },
    {
      "cell_type": "code",
      "source": [
        "\"\"\" This function takes a video as input and initially displays key video parameters,\n",
        "such as the frames per second, total number of frames, and duration.\n",
        "Subsequently, for each keyframe (also known as an I-frame),\n",
        " it prints both the timestamp and the frame number.\n",
        "Finally, the function saves each keyframe as an image file.\"\"\"\n",
        "\n",
        "def save_i_keyframes(video_fn):\n",
        "    KeyframesNo = []\n",
        "    Keyframestimes =[]\n",
        "    video = cv2.VideoCapture(video_fn)\n",
        "    fps = video.get(cv2.CAP_PROP_FPS)\n",
        "    print(\"Frames Per Second:....\", fps)\n",
        "    frame_count = int(video.get(cv2.CAP_PROP_FRAME_COUNT))\n",
        "    print(\"Number of total frames:.....\", frame_count)\n",
        "    duration = frame_count / fps\n",
        "    print(\"Video Duration....\", duration)\n",
        "\n",
        "    frame_types = get_frame_types(video_fn)\n",
        "\n",
        "    i_frames = [x[0] for x in frame_types if x[1]=='I']\n",
        "    if i_frames:\n",
        "        basename = os.path.splitext(os.path.basename(video_fn))[0]\n",
        "        cap = cv2.VideoCapture(video_fn)\n",
        "        print(\"Number of i frames:....\", len(i_frames))\n",
        "\n",
        "        for frame_no in i_frames:\n",
        "            KeyframesNo.append(frame_no)\n",
        "            timestamp = frame_no / fps\n",
        "            Keyframestimes.append(timestamp)\n",
        "        cap.release()\n",
        "    else:\n",
        "        print ('No I-frames in '+video_fn)\n",
        "\n",
        "\n",
        "    return KeyframesNo, Keyframestimes, duration"
      ],
      "metadata": {
        "id": "LCkfulSPYXQc"
      },
      "execution_count": 4,
      "outputs": []
    },
    {
      "cell_type": "code",
      "source": [
        "''' This function accepts a video input and returns the number of shots detected,\n",
        "along with the average and variance of the time between shots.'''\n",
        "\n",
        "def ShotInfo(videopath):\n",
        "    Difference = []\n",
        "    Features = []\n",
        "    frameno, frametime, durations = save_i_keyframes(videopath)\n",
        "    ShotNo = len(frametime)\n",
        "\n",
        "    frametime = np.asarray(frametime)\n",
        "\n",
        "    i= 0\n",
        "    while (i < ShotNo-1):\n",
        "        diff = frametime[i+1] - frametime[i]\n",
        "        Difference.append(diff)\n",
        "        i+=1\n",
        "\n",
        "\n",
        "    MeanShot = np.asarray(Difference).mean()\n",
        "    VarShot = np.var(np.asarray(Difference))\n",
        "\n",
        "    Features.append([ShotNo,MeanShot,VarShot])\n",
        "\n",
        "    return Features"
      ],
      "metadata": {
        "id": "B44LwU9tYq8C"
      },
      "execution_count": 5,
      "outputs": []
    },
    {
      "cell_type": "code",
      "source": [
        "videopath = \"/content/drive/MyDrive/Video/Sample1.mp4\"\n",
        "\n",
        "ShotFeatures = ShotInfo(videopath)\n",
        "print(ShotFeatures)"
      ],
      "metadata": {
        "colab": {
          "base_uri": "https://localhost:8080/"
        },
        "id": "3ck22kOwRkTw",
        "outputId": "9bea6477-8a43-4833-e98c-d4b88bd4c5a3"
      },
      "execution_count": 6,
      "outputs": [
        {
          "output_type": "stream",
          "name": "stdout",
          "text": [
            "Frames Per Second:.... 23.976023976023978\n",
            "Number of total frames:..... 216\n",
            "Video Duration.... 9.008999999999999\n",
            "Number of i frames:.... 4\n",
            "[[4, 2.419083333333333, 0.02435419097222229]]\n"
          ]
        }
      ]
    }
  ]
}