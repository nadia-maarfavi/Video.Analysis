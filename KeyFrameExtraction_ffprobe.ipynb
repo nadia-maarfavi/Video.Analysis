{
  "nbformat": 4,
  "nbformat_minor": 0,
  "metadata": {
    "colab": {
      "provenance": [],
      "mount_file_id": "1HB1GObZbAf-IQ7qBfjyoaXaH4MXx_JeE",
      "authorship_tag": "ABX9TyPR+yJ3/eDOq47413TzX60j",
      "include_colab_link": true
    },
    "kernelspec": {
      "name": "python3",
      "display_name": "Python 3"
    },
    "language_info": {
      "name": "python"
    }
  },
  "cells": [
    {
      "cell_type": "markdown",
      "metadata": {
        "id": "view-in-github",
        "colab_type": "text"
      },
      "source": [
        "<a href=\"https://colab.research.google.com/github/nadia-maarfavi/Video.Analysis/blob/main/KeyFrameExtraction_ffprobe.ipynb\" target=\"_parent\"><img src=\"https://colab.research.google.com/assets/colab-badge.svg\" alt=\"Open In Colab\"/></a>"
      ]
    },
    {
      "cell_type": "code",
      "execution_count": 1,
      "metadata": {
        "id": "SmccdhdFVy8L"
      },
      "outputs": [],
      "source": [
        "import os\n",
        "import cv2\n",
        "import subprocess\n",
        "import numpy as np\n",
        "from PIL import Image\n",
        "import pandas as pd\n",
        "from numpy import asarray\n",
        "import os\n",
        "import glob\n",
        "from scipy import stats\n",
        "import cv2\n",
        "import time"
      ]
    },
    {
      "cell_type": "code",
      "source": [
        "filename = '.........'\n",
        "#Path to the video"
      ],
      "metadata": {
        "id": "L4C4JSyoXKns"
      },
      "execution_count": 2,
      "outputs": []
    },
    {
      "cell_type": "code",
      "source": [
        "# This function will read the video and check the frame type.\n",
        "\n",
        "def get_frame_types(video_fn):\n",
        "    command = 'ffprobe -v error -show_entries frame=pict_type -of default=noprint_wrappers=1'.split()\n",
        "    out = subprocess.check_output(command + [video_fn]).decode()\n",
        "    frame_types = out.replace('pict_type=','').split()\n",
        "    return zip(range(len(frame_types)), frame_types)"
      ],
      "metadata": {
        "id": "ZdQkfiUYYGYC"
      },
      "execution_count": 3,
      "outputs": []
    },
    {
      "cell_type": "code",
      "source": [
        "\"\"\" This function takes a video as input and initially displays key video parameters,\n",
        "such as the frames per second, total number of frames, and duration.\n",
        "Subsequently, for each keyframe (also known as an I-frame),\n",
        " it prints both the timestamp and the frame number.\n",
        "Finally, the function saves each keyframe as an image file.\"\"\"\n",
        "\n",
        "def save_i_keyframes(video_fn):\n",
        "    KeyframesNo = []\n",
        "    Keyframestimes =[]\n",
        "    video = cv2.VideoCapture(video_fn)\n",
        "    fps = video.get(cv2.CAP_PROP_FPS)\n",
        "    print(\"Frames Per Second:....\", fps)\n",
        "    frame_count = int(video.get(cv2.CAP_PROP_FRAME_COUNT))\n",
        "    print(\"Number of total frames:.....\", frame_count)\n",
        "    duration = frame_count / fps\n",
        "    print(\"Video Duration....\", duration)\n",
        "\n",
        "    frame_types = get_frame_types(video_fn)\n",
        "\n",
        "    i_frames = [x[0] for x in frame_types if x[1]=='I']\n",
        "    if i_frames:\n",
        "        basename = os.path.splitext(os.path.basename(video_fn))[0]\n",
        "        cap = cv2.VideoCapture(video_fn)\n",
        "        print(\"Number of i frames:....\", len(i_frames))\n",
        "\n",
        "        for frame_no in i_frames:\n",
        "            print(frame_no)\n",
        "            KeyframesNo.append(frame_no)\n",
        "            timestamp = frame_no / fps\n",
        "            print(\"TimeStamp for \",frame_no,\" is....:  \", timestamp)\n",
        "            Keyframestimes.append(timestamp)\n",
        "            cap.set(cv2.CAP_PROP_POS_FRAMES, frame_no)\n",
        "            ret, frame = cap.read()\n",
        "            outname = basename+'_i_frame_'+str(frame_no)+'.jpg'\n",
        "            cv2.imwrite(outname, frame)\n",
        "            print ('Saved: '+outname)\n",
        "        cap.release()\n",
        "    else:\n",
        "        print ('No I-frames in '+video_fn)\n",
        "\n",
        "\n",
        "    return KeyframesNo, Keyframestimes, duration"
      ],
      "metadata": {
        "id": "LCkfulSPYXQc"
      },
      "execution_count": 4,
      "outputs": []
    },
    {
      "cell_type": "code",
      "source": [
        "save_i_keyframes(filename)"
      ],
      "metadata": {
        "colab": {
          "base_uri": "https://localhost:8080/"
        },
        "id": "B44LwU9tYq8C",
        "outputId": "100b4931-99c5-420f-cb3f-95dbde06254e"
      },
      "execution_count": 5,
      "outputs": [
        {
          "output_type": "stream",
          "name": "stdout",
          "text": [
            "Frames Per Second:.... 23.976023976023978\n",
            "Number of total frames:..... 216\n",
            "Video Duration.... 9.008999999999999\n",
            "Number of i frames:.... 4\n",
            "0\n",
            "TimeStamp for  0  is....:   0.0\n",
            "Saved: Sample1_i_frame_0.jpg\n",
            "62\n",
            "TimeStamp for  62  is....:   2.5859166666666664\n",
            "Saved: Sample1_i_frame_62.jpg\n",
            "121\n",
            "TimeStamp for  121  is....:   5.046708333333333\n",
            "Saved: Sample1_i_frame_121.jpg\n",
            "174\n",
            "TimeStamp for  174  is....:   7.257249999999999\n",
            "Saved: Sample1_i_frame_174.jpg\n"
          ]
        },
        {
          "output_type": "execute_result",
          "data": {
            "text/plain": [
              "([0, 62, 121, 174],\n",
              " [0.0, 2.5859166666666664, 5.046708333333333, 7.257249999999999],\n",
              " 9.008999999999999)"
            ]
          },
          "metadata": {},
          "execution_count": 5
        }
      ]
    }
  ]
}